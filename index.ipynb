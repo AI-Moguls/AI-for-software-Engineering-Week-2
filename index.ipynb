{
 "cells": [
  {
   "cell_type": "code",
   "execution_count": 1,
   "id": "fc3ae812",
   "metadata": {
    "execution": {
     "iopub.execute_input": "2025-06-07T19:35:18.565302Z",
     "iopub.status.busy": "2025-06-07T19:35:18.565097Z",
     "iopub.status.idle": "2025-06-07T19:35:21.363410Z",
     "shell.execute_reply": "2025-06-07T19:35:21.362716Z"
    },
    "papermill": {
     "duration": 2.802769,
     "end_time": "2025-06-07T19:35:21.364808",
     "exception": false,
     "start_time": "2025-06-07T19:35:18.562039",
     "status": "completed"
    },
    "tags": []
   },
   "outputs": [],
   "source": [
    "import pandas as pd\n",
    "import numpy as np\n",
    "import matplotlib.pyplot as plt\n",
    "import seaborn as sns"
   ]
  },
  {
   "cell_type": "code",
   "execution_count": 2,
   "id": "df4ac407",
   "metadata": {
    "execution": {
     "iopub.execute_input": "2025-06-07T19:35:21.370238Z",
     "iopub.status.busy": "2025-06-07T19:35:21.369938Z",
     "iopub.status.idle": "2025-06-07T19:35:31.039489Z",
     "shell.execute_reply": "2025-06-07T19:35:31.038779Z"
    },
    "papermill": {
     "duration": 9.673471,
     "end_time": "2025-06-07T19:35:31.040855",
     "exception": false,
     "start_time": "2025-06-07T19:35:21.367384",
     "status": "completed"
    },
    "tags": []
   },
   "outputs": [],
   "source": [
    "from sklearn.feature_extraction.text import TfidfVectorizer\n",
    "from sklearn.decomposition import PCA\n",
    "from sklearn.cluster import KMeans\n",
    "from sklearn.tree import DecisionTreeClassifier\n",
    "from sklearn.metrics import silhouette_score, accuracy_score, mean_absolute_error, f1_score\n",
    "from sklearn.model_selection import train_test_split\n",
    "from sklearn.preprocessing import StandardScaler\n",
    "from torchvision import models, transforms"
   ]
  },
  {
   "cell_type": "code",
   "execution_count": 3,
   "id": "0b7223f8",
   "metadata": {
    "execution": {
     "iopub.execute_input": "2025-06-07T19:35:31.046159Z",
     "iopub.status.busy": "2025-06-07T19:35:31.045818Z",
     "iopub.status.idle": "2025-06-07T19:35:31.448495Z",
     "shell.execute_reply": "2025-06-07T19:35:31.447961Z"
    },
    "papermill": {
     "duration": 0.406615,
     "end_time": "2025-06-07T19:35:31.449820",
     "exception": false,
     "start_time": "2025-06-07T19:35:31.043205",
     "status": "completed"
    },
    "tags": []
   },
   "outputs": [],
   "source": [
    "import torch\n",
    "from PIL import Image\n",
    "from tqdm import tqdm\n",
    "import os\n",
    "import nltk\n",
    "import joblib"
   ]
  },
  {
   "cell_type": "code",
   "execution_count": 4,
   "id": "063be9cd",
   "metadata": {
    "execution": {
     "iopub.execute_input": "2025-06-07T19:35:31.454667Z",
     "iopub.status.busy": "2025-06-07T19:35:31.454471Z",
     "iopub.status.idle": "2025-06-07T19:35:31.659455Z",
     "shell.execute_reply": "2025-06-07T19:35:31.658678Z"
    },
    "papermill": {
     "duration": 0.208696,
     "end_time": "2025-06-07T19:35:31.660655",
     "exception": false,
     "start_time": "2025-06-07T19:35:31.451959",
     "status": "completed"
    },
    "tags": []
   },
   "outputs": [
    {
     "name": "stderr",
     "output_type": "stream",
     "text": [
      "[nltk_data] Downloading package stopwords to /usr/share/nltk_data...\n",
      "[nltk_data]   Package stopwords is already up-to-date!\n",
      "[nltk_data] Downloading package wordnet to /usr/share/nltk_data...\n",
      "[nltk_data]   Package wordnet is already up-to-date!\n",
      "[nltk_data] Downloading package punkt to /usr/share/nltk_data...\n",
      "[nltk_data]   Package punkt is already up-to-date!\n"
     ]
    },
    {
     "data": {
      "text/plain": [
       "True"
      ]
     },
     "execution_count": 4,
     "metadata": {},
     "output_type": "execute_result"
    }
   ],
   "source": [
    "nltk.download('stopwords')\n",
    "nltk.download('wordnet')\n",
    "nltk.download('punkt')"
   ]
  },
  {
   "cell_type": "code",
   "execution_count": 5,
   "id": "48ae984e",
   "metadata": {
    "execution": {
     "iopub.execute_input": "2025-06-07T19:35:31.666086Z",
     "iopub.status.busy": "2025-06-07T19:35:31.665416Z",
     "iopub.status.idle": "2025-06-07T19:35:31.675302Z",
     "shell.execute_reply": "2025-06-07T19:35:31.674658Z"
    },
    "papermill": {
     "duration": 0.013467,
     "end_time": "2025-06-07T19:35:31.676291",
     "exception": false,
     "start_time": "2025-06-07T19:35:31.662824",
     "status": "completed"
    },
    "tags": []
   },
   "outputs": [
    {
     "name": "stdout",
     "output_type": "stream",
     "text": [
      "hmnist_8_8_RGB.csv\n",
      "hmnist_28_28_RGB.csv\n",
      "HAM10000_images_part_1\n",
      "ham10000_images_part_1\n",
      "hmnist_8_8_L.csv\n",
      "HAM10000_images_part_2\n",
      "ham10000_images_part_2\n",
      "hmnist_28_28_L.csv\n",
      "HAM10000_metadata.csv\n"
     ]
    }
   ],
   "source": [
    "import os\n",
    "\n",
    "for file in os.listdir('/kaggle/input/skin-cancer-mnist-ham10000'):\n",
    "    print(file)"
   ]
  },
  {
   "cell_type": "code",
   "execution_count": 6,
   "id": "d0d66b69",
   "metadata": {
    "execution": {
     "iopub.execute_input": "2025-06-07T19:35:31.680996Z",
     "iopub.status.busy": "2025-06-07T19:35:31.680756Z",
     "iopub.status.idle": "2025-06-07T19:35:31.734323Z",
     "shell.execute_reply": "2025-06-07T19:35:31.733598Z"
    },
    "papermill": {
     "duration": 0.057104,
     "end_time": "2025-06-07T19:35:31.735377",
     "exception": false,
     "start_time": "2025-06-07T19:35:31.678273",
     "status": "completed"
    },
    "tags": []
   },
   "outputs": [
    {
     "data": {
      "text/html": [
       "<div>\n",
       "<style scoped>\n",
       "    .dataframe tbody tr th:only-of-type {\n",
       "        vertical-align: middle;\n",
       "    }\n",
       "\n",
       "    .dataframe tbody tr th {\n",
       "        vertical-align: top;\n",
       "    }\n",
       "\n",
       "    .dataframe thead th {\n",
       "        text-align: right;\n",
       "    }\n",
       "</style>\n",
       "<table border=\"1\" class=\"dataframe\">\n",
       "  <thead>\n",
       "    <tr style=\"text-align: right;\">\n",
       "      <th></th>\n",
       "      <th>lesion_id</th>\n",
       "      <th>image_id</th>\n",
       "      <th>dx</th>\n",
       "      <th>dx_type</th>\n",
       "      <th>age</th>\n",
       "      <th>sex</th>\n",
       "      <th>localization</th>\n",
       "    </tr>\n",
       "  </thead>\n",
       "  <tbody>\n",
       "    <tr>\n",
       "      <th>0</th>\n",
       "      <td>HAM_0000118</td>\n",
       "      <td>ISIC_0027419</td>\n",
       "      <td>bkl</td>\n",
       "      <td>histo</td>\n",
       "      <td>80.0</td>\n",
       "      <td>male</td>\n",
       "      <td>scalp</td>\n",
       "    </tr>\n",
       "    <tr>\n",
       "      <th>1</th>\n",
       "      <td>HAM_0000118</td>\n",
       "      <td>ISIC_0025030</td>\n",
       "      <td>bkl</td>\n",
       "      <td>histo</td>\n",
       "      <td>80.0</td>\n",
       "      <td>male</td>\n",
       "      <td>scalp</td>\n",
       "    </tr>\n",
       "    <tr>\n",
       "      <th>2</th>\n",
       "      <td>HAM_0002730</td>\n",
       "      <td>ISIC_0026769</td>\n",
       "      <td>bkl</td>\n",
       "      <td>histo</td>\n",
       "      <td>80.0</td>\n",
       "      <td>male</td>\n",
       "      <td>scalp</td>\n",
       "    </tr>\n",
       "    <tr>\n",
       "      <th>3</th>\n",
       "      <td>HAM_0002730</td>\n",
       "      <td>ISIC_0025661</td>\n",
       "      <td>bkl</td>\n",
       "      <td>histo</td>\n",
       "      <td>80.0</td>\n",
       "      <td>male</td>\n",
       "      <td>scalp</td>\n",
       "    </tr>\n",
       "    <tr>\n",
       "      <th>4</th>\n",
       "      <td>HAM_0001466</td>\n",
       "      <td>ISIC_0031633</td>\n",
       "      <td>bkl</td>\n",
       "      <td>histo</td>\n",
       "      <td>75.0</td>\n",
       "      <td>male</td>\n",
       "      <td>ear</td>\n",
       "    </tr>\n",
       "  </tbody>\n",
       "</table>\n",
       "</div>"
      ],
      "text/plain": [
       "     lesion_id      image_id   dx dx_type   age   sex localization\n",
       "0  HAM_0000118  ISIC_0027419  bkl   histo  80.0  male        scalp\n",
       "1  HAM_0000118  ISIC_0025030  bkl   histo  80.0  male        scalp\n",
       "2  HAM_0002730  ISIC_0026769  bkl   histo  80.0  male        scalp\n",
       "3  HAM_0002730  ISIC_0025661  bkl   histo  80.0  male        scalp\n",
       "4  HAM_0001466  ISIC_0031633  bkl   histo  75.0  male          ear"
      ]
     },
     "execution_count": 6,
     "metadata": {},
     "output_type": "execute_result"
    }
   ],
   "source": [
    "import pandas as pd\n",
    "\n",
    "meta_df = pd.read_csv('/kaggle/input/skin-cancer-mnist-ham10000/HAM10000_metadata.csv')\n",
    "meta_df.head()"
   ]
  },
  {
   "cell_type": "code",
   "execution_count": 7,
   "id": "51417bc2",
   "metadata": {
    "execution": {
     "iopub.execute_input": "2025-06-07T19:35:31.740497Z",
     "iopub.status.busy": "2025-06-07T19:35:31.740297Z",
     "iopub.status.idle": "2025-06-07T19:35:34.686805Z",
     "shell.execute_reply": "2025-06-07T19:35:34.686162Z"
    },
    "papermill": {
     "duration": 2.950458,
     "end_time": "2025-06-07T19:35:34.688128",
     "exception": false,
     "start_time": "2025-06-07T19:35:31.737670",
     "status": "completed"
    },
    "tags": []
   },
   "outputs": [
    {
     "data": {
      "text/html": [
       "<div>\n",
       "<style scoped>\n",
       "    .dataframe tbody tr th:only-of-type {\n",
       "        vertical-align: middle;\n",
       "    }\n",
       "\n",
       "    .dataframe tbody tr th {\n",
       "        vertical-align: top;\n",
       "    }\n",
       "\n",
       "    .dataframe thead th {\n",
       "        text-align: right;\n",
       "    }\n",
       "</style>\n",
       "<table border=\"1\" class=\"dataframe\">\n",
       "  <thead>\n",
       "    <tr style=\"text-align: right;\">\n",
       "      <th></th>\n",
       "      <th>pixel0000</th>\n",
       "      <th>pixel0001</th>\n",
       "      <th>pixel0002</th>\n",
       "      <th>pixel0003</th>\n",
       "      <th>pixel0004</th>\n",
       "      <th>pixel0005</th>\n",
       "      <th>pixel0006</th>\n",
       "      <th>pixel0007</th>\n",
       "      <th>pixel0008</th>\n",
       "      <th>pixel0009</th>\n",
       "      <th>...</th>\n",
       "      <th>pixel2343</th>\n",
       "      <th>pixel2344</th>\n",
       "      <th>pixel2345</th>\n",
       "      <th>pixel2346</th>\n",
       "      <th>pixel2347</th>\n",
       "      <th>pixel2348</th>\n",
       "      <th>pixel2349</th>\n",
       "      <th>pixel2350</th>\n",
       "      <th>pixel2351</th>\n",
       "      <th>label</th>\n",
       "    </tr>\n",
       "  </thead>\n",
       "  <tbody>\n",
       "    <tr>\n",
       "      <th>0</th>\n",
       "      <td>192</td>\n",
       "      <td>153</td>\n",
       "      <td>193</td>\n",
       "      <td>195</td>\n",
       "      <td>155</td>\n",
       "      <td>192</td>\n",
       "      <td>197</td>\n",
       "      <td>154</td>\n",
       "      <td>185</td>\n",
       "      <td>202</td>\n",
       "      <td>...</td>\n",
       "      <td>173</td>\n",
       "      <td>124</td>\n",
       "      <td>138</td>\n",
       "      <td>183</td>\n",
       "      <td>147</td>\n",
       "      <td>166</td>\n",
       "      <td>185</td>\n",
       "      <td>154</td>\n",
       "      <td>177</td>\n",
       "      <td>2</td>\n",
       "    </tr>\n",
       "    <tr>\n",
       "      <th>1</th>\n",
       "      <td>25</td>\n",
       "      <td>14</td>\n",
       "      <td>30</td>\n",
       "      <td>68</td>\n",
       "      <td>48</td>\n",
       "      <td>75</td>\n",
       "      <td>123</td>\n",
       "      <td>93</td>\n",
       "      <td>126</td>\n",
       "      <td>158</td>\n",
       "      <td>...</td>\n",
       "      <td>60</td>\n",
       "      <td>39</td>\n",
       "      <td>55</td>\n",
       "      <td>25</td>\n",
       "      <td>14</td>\n",
       "      <td>28</td>\n",
       "      <td>25</td>\n",
       "      <td>14</td>\n",
       "      <td>27</td>\n",
       "      <td>2</td>\n",
       "    </tr>\n",
       "    <tr>\n",
       "      <th>2</th>\n",
       "      <td>192</td>\n",
       "      <td>138</td>\n",
       "      <td>153</td>\n",
       "      <td>200</td>\n",
       "      <td>145</td>\n",
       "      <td>163</td>\n",
       "      <td>201</td>\n",
       "      <td>142</td>\n",
       "      <td>160</td>\n",
       "      <td>206</td>\n",
       "      <td>...</td>\n",
       "      <td>167</td>\n",
       "      <td>129</td>\n",
       "      <td>143</td>\n",
       "      <td>159</td>\n",
       "      <td>124</td>\n",
       "      <td>142</td>\n",
       "      <td>136</td>\n",
       "      <td>104</td>\n",
       "      <td>117</td>\n",
       "      <td>2</td>\n",
       "    </tr>\n",
       "    <tr>\n",
       "      <th>3</th>\n",
       "      <td>38</td>\n",
       "      <td>19</td>\n",
       "      <td>30</td>\n",
       "      <td>95</td>\n",
       "      <td>59</td>\n",
       "      <td>72</td>\n",
       "      <td>143</td>\n",
       "      <td>103</td>\n",
       "      <td>119</td>\n",
       "      <td>171</td>\n",
       "      <td>...</td>\n",
       "      <td>44</td>\n",
       "      <td>26</td>\n",
       "      <td>36</td>\n",
       "      <td>25</td>\n",
       "      <td>12</td>\n",
       "      <td>17</td>\n",
       "      <td>25</td>\n",
       "      <td>12</td>\n",
       "      <td>15</td>\n",
       "      <td>2</td>\n",
       "    </tr>\n",
       "    <tr>\n",
       "      <th>4</th>\n",
       "      <td>158</td>\n",
       "      <td>113</td>\n",
       "      <td>139</td>\n",
       "      <td>194</td>\n",
       "      <td>144</td>\n",
       "      <td>174</td>\n",
       "      <td>215</td>\n",
       "      <td>162</td>\n",
       "      <td>191</td>\n",
       "      <td>225</td>\n",
       "      <td>...</td>\n",
       "      <td>209</td>\n",
       "      <td>166</td>\n",
       "      <td>185</td>\n",
       "      <td>172</td>\n",
       "      <td>135</td>\n",
       "      <td>149</td>\n",
       "      <td>109</td>\n",
       "      <td>78</td>\n",
       "      <td>92</td>\n",
       "      <td>2</td>\n",
       "    </tr>\n",
       "    <tr>\n",
       "      <th>5</th>\n",
       "      <td>8</td>\n",
       "      <td>1</td>\n",
       "      <td>3</td>\n",
       "      <td>19</td>\n",
       "      <td>5</td>\n",
       "      <td>10</td>\n",
       "      <td>26</td>\n",
       "      <td>8</td>\n",
       "      <td>13</td>\n",
       "      <td>34</td>\n",
       "      <td>...</td>\n",
       "      <td>12</td>\n",
       "      <td>3</td>\n",
       "      <td>7</td>\n",
       "      <td>5</td>\n",
       "      <td>0</td>\n",
       "      <td>1</td>\n",
       "      <td>4</td>\n",
       "      <td>0</td>\n",
       "      <td>0</td>\n",
       "      <td>2</td>\n",
       "    </tr>\n",
       "    <tr>\n",
       "      <th>6</th>\n",
       "      <td>194</td>\n",
       "      <td>147</td>\n",
       "      <td>137</td>\n",
       "      <td>197</td>\n",
       "      <td>148</td>\n",
       "      <td>139</td>\n",
       "      <td>197</td>\n",
       "      <td>148</td>\n",
       "      <td>132</td>\n",
       "      <td>200</td>\n",
       "      <td>...</td>\n",
       "      <td>211</td>\n",
       "      <td>160</td>\n",
       "      <td>163</td>\n",
       "      <td>211</td>\n",
       "      <td>162</td>\n",
       "      <td>166</td>\n",
       "      <td>208</td>\n",
       "      <td>162</td>\n",
       "      <td>166</td>\n",
       "      <td>2</td>\n",
       "    </tr>\n",
       "    <tr>\n",
       "      <th>7</th>\n",
       "      <td>161</td>\n",
       "      <td>121</td>\n",
       "      <td>105</td>\n",
       "      <td>169</td>\n",
       "      <td>128</td>\n",
       "      <td>119</td>\n",
       "      <td>172</td>\n",
       "      <td>129</td>\n",
       "      <td>116</td>\n",
       "      <td>176</td>\n",
       "      <td>...</td>\n",
       "      <td>141</td>\n",
       "      <td>103</td>\n",
       "      <td>92</td>\n",
       "      <td>87</td>\n",
       "      <td>59</td>\n",
       "      <td>56</td>\n",
       "      <td>32</td>\n",
       "      <td>18</td>\n",
       "      <td>19</td>\n",
       "      <td>2</td>\n",
       "    </tr>\n",
       "    <tr>\n",
       "      <th>8</th>\n",
       "      <td>125</td>\n",
       "      <td>84</td>\n",
       "      <td>85</td>\n",
       "      <td>165</td>\n",
       "      <td>114</td>\n",
       "      <td>118</td>\n",
       "      <td>181</td>\n",
       "      <td>120</td>\n",
       "      <td>125</td>\n",
       "      <td>188</td>\n",
       "      <td>...</td>\n",
       "      <td>119</td>\n",
       "      <td>80</td>\n",
       "      <td>79</td>\n",
       "      <td>62</td>\n",
       "      <td>35</td>\n",
       "      <td>41</td>\n",
       "      <td>19</td>\n",
       "      <td>8</td>\n",
       "      <td>13</td>\n",
       "      <td>2</td>\n",
       "    </tr>\n",
       "    <tr>\n",
       "      <th>9</th>\n",
       "      <td>228</td>\n",
       "      <td>179</td>\n",
       "      <td>194</td>\n",
       "      <td>227</td>\n",
       "      <td>174</td>\n",
       "      <td>191</td>\n",
       "      <td>226</td>\n",
       "      <td>165</td>\n",
       "      <td>182</td>\n",
       "      <td>215</td>\n",
       "      <td>...</td>\n",
       "      <td>217</td>\n",
       "      <td>142</td>\n",
       "      <td>156</td>\n",
       "      <td>219</td>\n",
       "      <td>154</td>\n",
       "      <td>166</td>\n",
       "      <td>216</td>\n",
       "      <td>146</td>\n",
       "      <td>154</td>\n",
       "      <td>2</td>\n",
       "    </tr>\n",
       "  </tbody>\n",
       "</table>\n",
       "<p>10 rows × 2353 columns</p>\n",
       "</div>"
      ],
      "text/plain": [
       "   pixel0000  pixel0001  pixel0002  pixel0003  pixel0004  pixel0005  \\\n",
       "0        192        153        193        195        155        192   \n",
       "1         25         14         30         68         48         75   \n",
       "2        192        138        153        200        145        163   \n",
       "3         38         19         30         95         59         72   \n",
       "4        158        113        139        194        144        174   \n",
       "5          8          1          3         19          5         10   \n",
       "6        194        147        137        197        148        139   \n",
       "7        161        121        105        169        128        119   \n",
       "8        125         84         85        165        114        118   \n",
       "9        228        179        194        227        174        191   \n",
       "\n",
       "   pixel0006  pixel0007  pixel0008  pixel0009  ...  pixel2343  pixel2344  \\\n",
       "0        197        154        185        202  ...        173        124   \n",
       "1        123         93        126        158  ...         60         39   \n",
       "2        201        142        160        206  ...        167        129   \n",
       "3        143        103        119        171  ...         44         26   \n",
       "4        215        162        191        225  ...        209        166   \n",
       "5         26          8         13         34  ...         12          3   \n",
       "6        197        148        132        200  ...        211        160   \n",
       "7        172        129        116        176  ...        141        103   \n",
       "8        181        120        125        188  ...        119         80   \n",
       "9        226        165        182        215  ...        217        142   \n",
       "\n",
       "   pixel2345  pixel2346  pixel2347  pixel2348  pixel2349  pixel2350  \\\n",
       "0        138        183        147        166        185        154   \n",
       "1         55         25         14         28         25         14   \n",
       "2        143        159        124        142        136        104   \n",
       "3         36         25         12         17         25         12   \n",
       "4        185        172        135        149        109         78   \n",
       "5          7          5          0          1          4          0   \n",
       "6        163        211        162        166        208        162   \n",
       "7         92         87         59         56         32         18   \n",
       "8         79         62         35         41         19          8   \n",
       "9        156        219        154        166        216        146   \n",
       "\n",
       "   pixel2351  label  \n",
       "0        177      2  \n",
       "1         27      2  \n",
       "2        117      2  \n",
       "3         15      2  \n",
       "4         92      2  \n",
       "5          0      2  \n",
       "6        166      2  \n",
       "7         19      2  \n",
       "8         13      2  \n",
       "9        154      2  \n",
       "\n",
       "[10 rows x 2353 columns]"
      ]
     },
     "execution_count": 7,
     "metadata": {},
     "output_type": "execute_result"
    }
   ],
   "source": [
    "image_data = pd.read_csv('/kaggle/input/skin-cancer-mnist-ham10000/hmnist_28_28_RGB.csv')\n",
    "image_data.head(10)"
   ]
  },
  {
   "cell_type": "code",
   "execution_count": 8,
   "id": "eadb6121",
   "metadata": {
    "execution": {
     "iopub.execute_input": "2025-06-07T19:35:34.694390Z",
     "iopub.status.busy": "2025-06-07T19:35:34.694175Z",
     "iopub.status.idle": "2025-06-07T19:35:50.351607Z",
     "shell.execute_reply": "2025-06-07T19:35:50.350880Z"
    },
    "papermill": {
     "duration": 15.66292,
     "end_time": "2025-06-07T19:35:50.353871",
     "exception": false,
     "start_time": "2025-06-07T19:35:34.690951",
     "status": "completed"
    },
    "tags": []
   },
   "outputs": [
    {
     "name": "stderr",
     "output_type": "stream",
     "text": [
      "/usr/local/lib/python3.11/dist-packages/sklearn/cluster/_kmeans.py:870: FutureWarning: The default value of `n_init` will change from 10 to 'auto' in 1.4. Set the value of `n_init` explicitly to suppress the warning\n",
      "  warnings.warn(\n"
     ]
    },
    {
     "data": {
      "image/png": "[encoded data removed]",
      "text/plain": [
       "<Figure size 640x480 with 1 Axes>"
      ]
     },
     "metadata": {},
     "output_type": "display_data"
    }
   ],
   "source": [
    "if 'label' in image_data.columns:\n",
    "    features = image_data.drop('label', axis=1)\n",
    "else:\n",
    "    features = image_data.copy()\n",
    "\n",
    "# Normalize\n",
    "scaler = StandardScaler()\n",
    "scaled_features = scaler.fit_transform(features)\n",
    "\n",
    "# PCA for visualization\n",
    "pca = PCA(n_components=2)\n",
    "pca_features = pca.fit_transform(scaled_features)\n",
    "\n",
    "# Clustering\n",
    "kmeans = KMeans(n_clusters=5, random_state=20)\n",
    "clusters = kmeans.fit_predict(scaled_features)\n",
    "\n",
    "# Plot\n",
    "plt.scatter(pca_features[:, 0], pca_features[:, 1], c=clusters, cmap='viridis')\n",
    "plt.title(\"KMeans Clustering on Skin Cancer Data\")\n",
    "plt.xlabel(\"PCA 1\")\n",
    "plt.ylabel(\"PCA 2\")\n",
    "plt.show()"
   ]
  },
  {
   "cell_type": "code",
   "execution_count": 9,
   "id": "f8dad737",
   "metadata": {
    "execution": {
     "iopub.execute_input": "2025-06-07T19:35:50.362684Z",
     "iopub.status.busy": "2025-06-07T19:35:50.362490Z",
     "iopub.status.idle": "2025-06-07T19:35:50.366700Z",
     "shell.execute_reply": "2025-06-07T19:35:50.366064Z"
    },
    "papermill": {
     "duration": 0.009719,
     "end_time": "2025-06-07T19:35:50.367723",
     "exception": false,
     "start_time": "2025-06-07T19:35:50.358004",
     "status": "completed"
    },
    "tags": []
   },
   "outputs": [
    {
     "name": "stdout",
     "output_type": "stream",
     "text": [
      "\n",
      "Ethical Reflection:\n",
      "1. Dataset Bias: Images may overrepresent certain skin types, affecting model generalization.\n",
      "2. Fairness: Unsupervised clustering avoids human labeling bias, but analysis of cluster makeup is crucial.\n",
      "3. Sustainability: Better early detection tools help prevent severe interventions, saving resources.\n",
      "4. Accountability: Ensure transparency in data sources and modeling choices.\n"
     ]
    }
   ],
   "source": [
    "print(\"\\nEthical Reflection:\")\n",
    "print(\"1. Dataset Bias: Images may overrepresent certain skin types, affecting model generalization.\")\n",
    "print(\"2. Fairness: Unsupervised clustering avoids human labeling bias, but analysis of cluster makeup is crucial.\")\n",
    "print(\"3. Sustainability: Better early detection tools help prevent severe interventions, saving resources.\")\n",
    "print(\"4. Accountability: Ensure transparency in data sources and modeling choices.\")\n"
   ]
  },
  {
   "cell_type": "code",
   "execution_count": null,
   "id": "1f955f9e",
   "metadata": {
    "papermill": {
     "duration": 0.003655,
     "end_time": "2025-06-07T19:35:50.375227",
     "exception": false,
     "start_time": "2025-06-07T19:35:50.371572",
     "status": "completed"
    },
    "tags": []
   },
   "outputs": [],
   "source": []
  }
 ],
 "metadata": {
  "kaggle": {
   "accelerator": "gpu",
   "dataSources": [
    {
     "datasetId": 54339,
     "sourceId": 104884,
     "sourceType": "datasetVersion"
    }
   ],
   "dockerImageVersionId": 31041,
   "isGpuEnabled": true,
   "isInternetEnabled": true,
   "language": "python",
   "sourceType": "notebook"
  },
  "kernelspec": {
   "display_name": "Python 3",
   "language": "python",
   "name": "python3"
  },
  "language_info": {
   "codemirror_mode": {
    "name": "ipython",
    "version": 3
   },
   "file_extension": ".py",
   "mimetype": "text/x-python",
   "name": "python",
   "nbconvert_exporter": "python",
   "pygments_lexer": "ipython3",
   "version": "3.11.11"
  },
  "papermill": {
   "default_parameters": {},
   "duration": 38.264599,
   "end_time": "2025-06-07T19:35:52.748550",
   "environment_variables": {},
   "exception": null,
   "input_path": "__notebook__.ipynb",
   "output_path": "__notebook__.ipynb",
   "parameters": {},
   "start_time": "2025-06-07T19:35:14.483951",
   "version": "2.6.0"
  }
 },
 "nbformat": 4,
 "nbformat_minor": 5
}
